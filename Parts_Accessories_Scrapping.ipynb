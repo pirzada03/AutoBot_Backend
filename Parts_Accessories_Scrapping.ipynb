{
  "nbformat": 4,
  "nbformat_minor": 0,
  "metadata": {
    "colab": {
      "provenance": []
    },
    "kernelspec": {
      "name": "python3",
      "display_name": "Python 3"
    },
    "language_info": {
      "name": "python"
    }
  },
  "cells": [
    {
      "cell_type": "code",
      "execution_count": 2,
      "metadata": {
        "id": "aUHmK0GIRy3N"
      },
      "outputs": [],
      "source": [
        "import requests\n",
        "from bs4 import BeautifulSoup\n",
        "import time\n",
        "import io\n",
        "import json\n",
        "import concurrent.futures\n",
        "import pandas as pd"
      ]
    },
    {
      "cell_type": "code",
      "source": [
        "headers = {\n",
        "        'Accept': '*/*',\n",
        "        'User-Agent': 'Mozilla/5.0 (Windows NT 10.0; Win64; x64) AppleWebKit/537.36 (KHTML, like Gecko) Chrome/109.0.0.0 Safari/537.36'\n",
        "    }\n",
        "\n",
        "alldetails = []\n",
        "\n",
        "for i in range(30):\n",
        "\n",
        "  url =  \"https://sehgalmotors.pk/collections/interior-accessories?page=\" + str(i)\n",
        "  response = requests.get(url, headers=headers)\n",
        "  html_source = response.text\n",
        "  soup = BeautifulSoup(html_source, 'html.parser')\n",
        "\n",
        "  divs = soup.find_all('div',class_='t4s-product-info__inner')\n",
        "  for div in divs:\n",
        "    producturl = url.split('?')[0] + div.find('a').get('href')\n",
        "    response = requests.get(producturl, headers=headers)\n",
        "    html_source = response.text\n",
        "    soup = BeautifulSoup(html_source, 'html.parser')\n",
        "\n",
        "    productdetails = {}\n",
        "    try:\n",
        "      productdetails['Title'] = soup.find('h1',class_='t4s-product__title').text\n",
        "      productdetails['OriginalPrice'] = soup.find('div',class_='t4s-product-price').find('del').text\n",
        "      productdetails['DiscountedPrice'] = soup.find('div',class_='t4s-product-price').find('ins').text\n",
        "      productdetails['Description'] = soup.find('div',class_='t4s-rte t4s-tab-content').find('p').text\n",
        "    except:\n",
        "      break\n",
        "\n",
        "    alldetails.append(productdetails)\n",
        "\n",
        "df = pd.DataFrame(alldetails)\n",
        "name = \"interior.xlsx\"\n",
        "# Save the DataFrame to an Excel file\n",
        "df.to_excel(name, index=False)\n",
        "\n",
        "print(\"parts/accessories details saved\")\n",
        ""
      ],
      "metadata": {
        "colab": {
          "base_uri": "https://localhost:8080/"
        },
        "id": "8drY4Ed1V7Pm",
        "outputId": "6af4f1a3-fecb-4815-f0a5-888d55fb53d7"
      },
      "execution_count": 15,
      "outputs": [
        {
          "output_type": "stream",
          "name": "stdout",
          "text": [
            "parts/accessories details saved\n"
          ]
        }
      ]
    }
  ]
}